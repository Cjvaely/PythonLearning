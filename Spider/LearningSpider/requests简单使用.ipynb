{
 "cells": [
  {
   "cell_type": "markdown",
   "metadata": {},
   "source": [
    "## 使用requests库请求网站获得响应"
   ]
  },
  {
   "cell_type": "code",
   "execution_count": 1,
   "metadata": {},
   "outputs": [
    {
     "name": "stdout",
     "output_type": "stream",
     "text": [
      "<!DOCTYPE html>\r\n",
      "<!--STATUS OK--><html> <head><meta http-equiv=content-type content=text/html;charset=utf-8><meta http-equiv=X-UA-Compatible content=IE=Edge><meta content=always name=referrer><link rel=stylesheet type=text/css href=http://s1.bdstatic.com/r/www/cache/bdorz/baidu.min.css><title>ç¾åº¦ä¸ä¸ï¼ä½ å°±ç¥é</title></head> <body link=#0000cc> <div id=wrapper> <div id=head> <div class=head_wrapper> <div class=s_form> <div class=s_form_wrapper> <div id=lg> <img hidefocus=true src=//www.baidu.com/img/bd_logo1.png width=270 height=129> </div> <form id=form name=f action=//www.baidu.com/s class=fm> <input type=hidden name=bdorz_come value=1> <input type=hidden name=ie value=utf-8> <input type=hidden name=f value=8> <input type=hidden name=rsv_bp value=1> <input type=hidden name=rsv_idx value=1> <input type=hidden name=tn value=baidu><span class=\"bg s_ipt_wr\"><input id=kw name=wd class=s_ipt value maxlength=255 autocomplete=off autofocus></span><span class=\"bg s_btn_wr\"><input type=submit id=su value=ç¾åº¦ä¸ä¸ class=\"bg s_btn\"></span> </form> </div> </div> <div id=u1> <a href=http://news.baidu.com name=tj_trnews class=mnav>æ°é»</a> <a href=http://www.hao123.com name=tj_trhao123 class=mnav>hao123</a> <a href=http://map.baidu.com name=tj_trmap class=mnav>å°å¾</a> <a href=http://v.baidu.com name=tj_trvideo class=mnav>è§é¢</a> <a href=http://tieba.baidu.com name=tj_trtieba class=mnav>è´´å§</a> <noscript> <a href=http://www.baidu.com/bdorz/login.gif?login&amp;tpl=mn&amp;u=http%3A%2F%2Fwww.baidu.com%2f%3fbdorz_come%3d1 name=tj_login class=lb>ç»å½</a> </noscript> <script>document.write('<a href=\"http://www.baidu.com/bdorz/login.gif?login&tpl=mn&u='+ encodeURIComponent(window.location.href+ (window.location.search === \"\" ? \"?\" : \"&\")+ \"bdorz_come=1\")+ '\" name=\"tj_login\" class=\"lb\">ç»å½</a>');</script> <a href=//www.baidu.com/more/ name=tj_briicon class=bri style=\"display: block;\">æ´å¤äº§å</a> </div> </div> </div> <div id=ftCon> <div id=ftConw> <p id=lh> <a href=http://home.baidu.com>å",
      "³äºç¾åº¦</a> <a href=http://ir.baidu.com>About Baidu</a> </p> <p id=cp>&copy;2017&nbsp;Baidu&nbsp;<a href=http://www.baidu.com/duty/>ä½¿ç¨ç¾åº¦åå¿",
      "è¯»</a>&nbsp; <a href=http://jianyi.baidu.com/ class=cp-feedback>æè§åé¦</a>&nbsp;äº¬ICPè¯030173å·&nbsp; <img src=//www.baidu.com/img/gs.gif> </p> </div> </div> </div> </body> </html>\r\n",
      "\n"
     ]
    }
   ],
   "source": [
    "import requests\n",
    "\n",
    "response = requests.get('http://www.baidu.com')\n",
    "# 显示网页源代码\n",
    "print(response.text)"
   ]
  },
  {
   "cell_type": "code",
   "execution_count": 2,
   "metadata": {},
   "outputs": [
    {
     "name": "stdout",
     "output_type": "stream",
     "text": [
      "{'Cache-Control': 'private, no-cache, no-store, proxy-revalidate, no-transform', 'Connection': 'Keep-Alive', 'Content-Encoding': 'gzip', 'Content-Type': 'text/html', 'Date': 'Mon, 26 Nov 2018 12:39:10 GMT', 'Last-Modified': 'Mon, 23 Jan 2017 13:27:32 GMT', 'Pragma': 'no-cache', 'Server': 'bfe/1.0.8.18', 'Set-Cookie': 'BDORZ=27315; max-age=86400; domain=.baidu.com; path=/', 'Transfer-Encoding': 'chunked'}\n"
     ]
    }
   ],
   "source": [
    "# 显示网页响应头\n",
    "print(response.headers)"
   ]
  },
  {
   "cell_type": "code",
   "execution_count": 3,
   "metadata": {},
   "outputs": [
    {
     "name": "stdout",
     "output_type": "stream",
     "text": [
      "200\n"
     ]
    }
   ],
   "source": [
    "# 显示网页响应码\n",
    "print(response.status_code)"
   ]
  },
  {
   "cell_type": "code",
   "execution_count": 4,
   "metadata": {},
   "outputs": [
    {
     "name": "stdout",
     "output_type": "stream",
     "text": [
      "200\n"
     ]
    }
   ],
   "source": [
    "# 加上请求头\n",
    "headers = {'User-Agent':'Mozilla/5.0 (Macintosh; Intel Mac OS X 10_14_1) AppleWebKit/537.36 (KHTML, like Gecko) Chrome/70.0.3538.110 Safari/537.36'}\n",
    "# 加上请求头再次请求网站\n",
    "response = requests.get('http://www.baidu.com', headers=headers)\n",
    "# 显示响应状态码\n",
    "print(response.status_code)"
   ]
  },
  {
   "cell_type": "markdown",
   "metadata": {},
   "source": [
    "## 使用requests抓取图片"
   ]
  },
  {
   "cell_type": "code",
   "execution_count": 7,
   "metadata": {
    "scrolled": true
   },
   "outputs": [
    {
     "name": "stdout",
     "output_type": "stream",
     "text": [
      "b'GIF89au\\x00&\\x00\\xa2\\x00\\x00\\xe62/\\xea\\xd4\\xe2Y`\\xe8\\x99\\x9d\\xf1\\xefvt)2\\xe1\\xe1\\x06\\x02\\xff\\xff\\xff!\\xf9\\x04\\x00\\x00\\x00\\x00\\x00,\\x00\\x00\\x00\\x00u\\x00&\\x00\\x00\\x03\\xffx\\xba\\xdc\\xfe0\\xb6 J\\x190\\x04\\xc9\\xbb\\xff`\\xc8UV!L\\xa4\\xb0\\x89l\\xeb\\xbe\\xcbP\\x96\\xeb\\x11\\xccV\\r\\xef|\\x7f\\xe0\\x96\\x93\\x824\\xc3\\xf8\\x8eH\\xd0\\r(\\x94\\x01\\x0b\\xc9\\xa8\\xf4\\xb1\\x04\\x0e\\x9f\\x05\\xddt{\\xac\\xe2\\x14\\xd8,w\\x8c|\\n\\xb1B\\xb2Z\\xa4a\\x10K\\xc67|M\\xf7Ph\\n\\xaf%\\xf6\\xd4\\xd6\\xffn8FN&:@F\\x80\\x89|V1~w\\x85y\\x03\\x92\\x8a\\x7fr\\x16\\x88 \\x849\\x94khlO\\x9cj\\x9e!\\x9as\\xa1\\\\\\xa3\\x0c\\x1am\\x0e\\x96&\\xa7\\\\\\xae\\x98\\x8fAZ\\xaePQ\\x04\\xba~\\x7f\\xa5\\x9byX\\x98\\xb7R\\x06\\xc5\\xbc\\xc5\\xc8\\xc9\\x06\\x00\\x00\\x04\\xbc\\x1f\\x00\\xc8WE\\x0bz85\\xae\\'\\xca\\xdb\\xdc\\x06\\n\\xd1\\xdd\\xe1\\xe0\\xe1\\xc8\\x04.\\xe3\\x0bD\\xc2a\\xbf\\xd9\\x07\\xe4\\xe1\\xdf\\xf0\\xdc\\xe3\\xf3\\xe6,\\xe8\\x12\\xbeL\\n\\xfb\\x18\\xcc\\x00\\x01&\\x0b\\x08P\\x9e\\xb7<\\xacT\\xb1\\x1aH\\xb0\\x9e\\x81g\\x12t\\xe9\\xd2gj\\x94\\x9c4\\x0e\\x02 \\x83\\x08.\\xffO1\\x00\\x13>*HF%\\xd9\\xbd$\\x9a\\x8c\\x84i2@\\x80\\x00L\\r\\xc7\\xc5\\\\\\x00N\\xe3\\xbc\\x8f$\\x1f\\x10(\\x97\\'&3g\\x0c\\xf29(\\xa5r\\xa5\\x84\\x9b9\\x0f\\xd4D\\xba,i\\x83q+l\\x86;)4\\x90 0\\xec06`Z\\x8cfW\\x1b\"U\\x85M\\xb6\\xaa\\xecNi\\x1e\\xe1\\xad\\xa8jC\\x9d\\x83\\x0bX\\xe1\\xfex\\xf5\\x00m\\x04\\xbb\\x1d\\xc1.\\x0b\\xb9\\xf7\\x1d\\xd2\\x93\\x11\\xce\\xf6eK\\x84\\x97\\xdc\\x8a\\xb5\\x1c\\xd8\\x85\\x80\\xf7\\xab\\xd4n\\xf7\\xfeBC[\\x95\\xd0\\xa0 `\\x8a\\x1e.\\xa1\\xd5\\xef\\xc1\\xbb_\\x95:&\\x07`\\x05S\\xc0\\x11\\xf2\\t\\xf5\\xb2\\xa1\\xca\\x19\\xcd\\x9a/m\\xfd\\xe8\\x93Y\\xe3\\xcf\\x1f\\xc8\\x96\\xd5 \\xf8a\\xb5\\xde\\xdc\\x0c~\\xd6\\xb4\\x81\\xd0\\xeb\\xb8\\xb1\\xf70\\xe0\\xfa\\xb9\\xa3\\xc3p\\x8f!\\x08\\x06i\\xe3\\xf96\\xe1\\xe9f\\xb4\\xe6\\x9c\\x19y\\\\<\\x0b\\x98{\\xf5f\\x9d[t\\x9d\\xc8\\xa8O\\'\\x98S\\xe8\\x9bA\\x15\\x8e\\x1f \\x91\\\\L\\xf8\\xd0\\x10\\xf2\\x8a\\xf6\\x16`\\x1c\\xd0\\x00\\x86\\xd3m\\xe0T52\\x19D]P\\x94\\xd9U\\x8aa\\x9d}\\xf7\\xcbH\\xf8=\\xa0\\x9f~\\xbdUx\\x1fm\\xec\\x99d\\xa0\\x16\\xaa\\xd9e\\xcd\\x00Z$\\xd6\\x00#\\x17r0!~\\x00*\\x83\\x1aW+\\x00\\xd7\\rv\\xd9\\xb1#\\xe3U\\xcba\\xe8\\xd3mf=\\xe7\\xcc*L\\xd5\\xd0\\xdf<0\\x023\\xe3\\x90\\xf6]\\x88\\xd4x\\x8f\\x95\\xf3\\\\y\\xe9\\xed2\\x81\\x8b\\xca\\x04)\\xe4J\\xb7h\\xa7\\xd8iH\\x0et\\x12\\x01\\xf5\\x1c\\x98HK&\\xbc\\x04\\xa2\\x16\\x01\\xb4D\\xc4K\\x10\\xad\\x91\\x00\\x00;'\n"
     ]
    }
   ],
   "source": [
    "# 请求图片\n",
    "response = requests.get('https://www.baidu.com/img/baidu_jgylogo3.gif')\n",
    "# 响应体二进制\n",
    "print(response.content)"
   ]
  },
  {
   "cell_type": "code",
   "execution_count": 8,
   "metadata": {
    "collapsed": true
   },
   "outputs": [],
   "source": [
    "# 保存图片\n",
    "with open('/Users/cjv/Documents/SpiderCode/imgs/bd_log.gif', 'wb') as f:\n",
    "    f.write(response.content)\n",
    "    f.close()\n",
    "# 下载成功"
   ]
  },
  {
   "cell_type": "markdown",
   "metadata": {},
   "source": [
    "## 请求微博"
   ]
  },
  {
   "cell_type": "code",
   "execution_count": 13,
   "metadata": {},
   "outputs": [
    {
     "name": "stdout",
     "output_type": "stream",
     "text": [
      "<!DOCTYPE html>\n",
      "<html>\n",
      "<head>\n",
      "    <meta http-equiv=\"Content-type\" content=\"text/html; charset=gb2312\"/>\n",
      "    <title>Sina Visitor System</title>\n",
      "</head>\n",
      "<body>\n",
      "<span id=\"message\"></span>\n",
      "<script type=\"text/javascript\" src=\"/js/visitor/mini_original.js?v=20161116\"></script>\n",
      "<script type=\"text/javascript\">\n",
      "    window.use_fp = \"1\" == \"1\"; // ÊÇ·ñ²É¼¯Éè±¸Ö¸ÎÆ¡£\n",
      "    var url = url || {};\n",
      "    (function () {\n",
      "        this.l = function (u, c) {\n",
      "            try {\n",
      "                var s = document.createElement(\"script\");\n",
      "                s.type = \"text/javascript\";\n",
      "                s[document.all ? \"onreadystatechange\" : \"onload\"] = function () {\n",
      "\n",
      "                    if (document.all && this.readyState != \"loaded\" && this.readyState != \"complete\") {\n",
      "                        return\n",
      "                    }\n",
      "                    this[document.all ? \"onreadystatechange\" : \"onload\"] = null;\n",
      "                    this.parentNode.removeChild(this);\n",
      "                    if (c) {\n",
      "                        c()\n",
      "                    }\n",
      "                };\n",
      "                s.src = u;\n",
      "                document.getElementsByTagName(\"head\")[0].appendChild(s)\n",
      "            } catch (e) {\n",
      "            }\n",
      "        };\n",
      "    }).call(url);\n",
      "\n",
      "    // Á÷³ÌÈë¿Ú¡£\n",
      "    wload(function () {\n",
      "\n",
      "        try {\n",
      "\n",
      "            var need_restore = \"1\" == \"1\"; // ÊÇ·ñ×ß»Ö¸´Éí·ÝÁ÷³Ì¡£\n",
      "\n",
      "            // Èç¹ûÐèÒª×ß»Ö¸´Éí·ÝÁ÷³Ì£¬³¢ÊÔ´Ó cookie »ñÈ¡ÓÃ»§Éí·Ý¡£\n",
      "            if (!need_restore || !Store.CookieHelper.get(\"SRF\")) {\n",
      "\n",
      "                // Èô»ñÈ¡Ê§°Ü×ß´´½¨·Ã¿ÍÁ÷³Ì¡£\n",
      "                // Á÷³ÌÖ´ÐÐÊ±¼ä¹ý³¤£¨³¬¹ý 3s£©£¬ÔòÈÏÎª³ö´í¡£\n",
      "                var error_timeout = window.setTimeout(\"error_back()\", 5000);\n",
      "\n",
      "                tid.get(function (tid, where, confidence) {\n",
      "                    // È¡Ö¸ÎÆË³ÀûÍê³É£¬Çå³ý³ö´í timeout ¡£\n",
      "                    window.clearTimeout(error_timeout);\n",
      "                    incarnate(tid, where, confidence);\n",
      "                });\n",
      "            } else {\n",
      "                // ÓÃ»§Éí·Ý´æÔÚ£¬³¢ÊÔ»Ö¸´ÓÃ»§Éí·Ý¡£\n",
      "                restore();\n",
      "            }\n",
      "        } catch (e) {\n",
      "            // ³ö´í¡£\n",
      "            error_back();\n",
      "        }\n",
      "    });\n",
      "\n",
      "    // ¡°·µ»Ø¡± »Øµ÷º¯Êý¡£\n",
      "    var return_back = function (response) {\n",
      "\n",
      "        if (response[\"retcode\"] == 20000000) {\n",
      "            back();\n",
      "        } else {\n",
      "            // ³ö´í¡£\n",
      "            error_back(response[\"msg\"]);\n",
      "        }\n",
      "    };\n",
      "\n",
      "    // Ìø×ª»Ø³õÊ¼µØÖ·¡£\n",
      "    var back = function() {\n",
      "\n",
      "        var url = \"https://weibo.com/\";\n",
      "        if (url != \"none\") {\n",
      "            window.location.href = url;\n",
      "        }\n",
      "    };\n",
      "\n",
      "    // ¿çÓò¹ã²¥¡£\n",
      "    var cross_domain = function (response) {\n",
      "\n",
      "        var from = \"weibo\";\n",
      "        if (response[\"retcode\"] == 20000000) {\n",
      "\n",
      "            var crossdomain_host = \"login.sina.com.cn\";\n",
      "            if (crossdomain_host != \"none\") {\n",
      "\n",
      "                var cross_domain_intr = window.location.protocol + \"//\" + crossdomain_host + \"/visitor/visitor?a=crossdomain&cb=return_back&s=\" +\n",
      "                        encodeURIComponent(response[\"data\"][\"sub\"]) + \"&sp=\" + encodeURIComponent(response[\"data\"][\"subp\"]) + \"&from=\" + from + \"&_rand=\" + Math.random();\n",
      "                url.l(cross_domain_intr);\n",
      "            } else {\n",
      "\n",
      "                back();\n",
      "            }\n",
      "        } else {\n",
      "\n",
      "            // ³ö´í¡£\n",
      "            error_back(response[\"msg\"]);\n",
      "        }\n",
      "    };\n",
      "\n",
      "    // ÎªÓÃ»§¸³Óè·Ã¿ÍÉí·Ý ¡£\n",
      "    var incarnate = function (tid, where, conficence) {\n",
      "\n",
      "        var gen_conf = \"\";\n",
      "        var from = \"weibo\";\n",
      "        var incarnate_intr = window.location.protocol + \"//\" + window.location.host + \"/visitor/visitor?a=incarnate&t=\" +\n",
      "                encodeURIComponent(tid) + \"&w=\" + encodeURIComponent(where) + \"&c=\" + encodeURIComponent(conficence) +\n",
      "                \"&gc=\" + encodeURIComponent(gen_conf) + \"&cb=cross_domain&from=\" + from + \"&_rand=\" + Math.random();\n",
      "        url.l(incarnate_intr);\n",
      "    };\n",
      "\n",
      "    // »Ö¸´ÓÃ»§¶ªÊ§µÄÉí·Ý¡£\n",
      "    var restore = function () {\n",
      "\n",
      "        var from = \"weibo\";\n",
      "        var restore_intr = window.location.protocol + \"//\" + window.location.host +\n",
      "                \"/visitor/visitor?a=restore&cb=restore_back&from=\" + from + \"&_rand=\" + Math.random();\n",
      "\n",
      "        url.l(restore_intr);\n",
      "    };\n",
      "\n",
      "    // ¿çÓò»Ö¸´¶ªÊ§µÄÉí·Ý¡£\n",
      "    var restore_back = function (response) {\n",
      "\n",
      "        // Éí·Ý»Ö¸´³É¹¦×ß¹ã²¥Á÷³Ì£¬·ñÔò×ß´´½¨·Ã¿ÍÁ÷³Ì¡£\n",
      "        if (response[\"retcode\"] == 20000000) {\n",
      "\n",
      "            var url = \"https://weibo.com/\";\n",
      "            var alt = response[\"data\"][\"alt\"];\n",
      "            var savestate = response[\"data\"][\"savestate\"];\n",
      "            if (alt != \"\") {\n",
      "                requrl = (url == \"none\") ? \"\" : \"&url=\" + encodeURIComponent(url);\n",
      "                var params = \"entry=sso&alt=\" + encodeURIComponent(alt) + \"&returntype=META\" +\n",
      "                    \"&gateway=1&savestate=\" + encodeURIComponent(savestate) + requrl;\n",
      "                window.location.href = \"https://login.sina.com.cn/sso/login.php?\" + params;\n",
      "            } else {\n",
      "\n",
      "                cross_domain(response);\n",
      "            }\n",
      "        } else if(response['retcode'] == 50111261 && isInIframe()) {\n",
      "            //do nothing\n",
      "        } else {\n",
      "\n",
      "            tid.get(function (tid, where, confidence) {\n",
      "                incarnate(tid, where, confidence);\n",
      "            });\n",
      "        }\n",
      "    };\n",
      "\n",
      "    // ³ö´íÇé¿ö·µ»ØµÇÂ¼Ò³¡£\n",
      "    var error_back = function (msg) {\n",
      "\n",
      "        var url = \"https://weibo.com/\";\n",
      "        var clientType = \"pc\";\n",
      "        if (url != \"none\") {\n",
      "\n",
      "            if (url.indexOf(\"ssovie4c55=0\") === -1) {\n",
      "                url += (((url.indexOf(\"?\") === -1) ? \"?\" : \"&\") + \"ssovie4c55=0\");\n",
      "            }\n",
      "            if (clientType == \"mobile\") {\n",
      "            \twindow.location.href = \"https://passport.weibo.cn/signin/login?r=\"+url;\n",
      "            } else{\n",
      "            \twindow.location.href = \"http://weibo.com/login.php\";\n",
      "            }\n",
      "        } else {\n",
      "\n",
      "            if(document.getElementById(\"message\")) {\n",
      "                document.getElementById(\"message\").innerHTML = \"Error occurred\" + (msg ? (\": \" + msg) : \".\");\n",
      "            }\n",
      "        }\n",
      "    };\n",
      "\n",
      "    var isInIframe = function () {\n",
      "        try {\n",
      "            return window.self !== window.top;\n",
      "        } catch (e) {\n",
      "            return true;\n",
      "        }\n",
      "    };\n",
      "\n",
      "</script>\n",
      "</body>\n",
      "</html>\n"
     ]
    }
   ],
   "source": [
    "response = requests.get('http://www.weibo.com')\n",
    "# requests只能请求第一个request的数据，后续渲染数据不会一次加载出来\n",
    "# 与直接从网页源代码获取的数据不一致\n",
    "print(response.text)"
   ]
  }
 ],
 "metadata": {
  "kernelspec": {
   "display_name": "Python 3",
   "language": "python",
   "name": "python3"
  },
  "language_info": {
   "codemirror_mode": {
    "name": "ipython",
    "version": 3
   },
   "file_extension": ".py",
   "mimetype": "text/x-python",
   "name": "python",
   "nbconvert_exporter": "python",
   "pygments_lexer": "ipython3",
   "version": "3.6.2"
  }
 },
 "nbformat": 4,
 "nbformat_minor": 2
}
